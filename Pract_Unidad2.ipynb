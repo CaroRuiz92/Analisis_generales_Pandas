{
 "cells": [
  {
   "cell_type": "markdown",
   "id": "d05b7c30-3f1d-4c5a-a963-0e663e485887",
   "metadata": {},
   "source": [
    "## Manipulación de datos\n",
    "### Ejercicio N°1"
   ]
  },
  {
   "cell_type": "code",
   "execution_count": 1,
   "id": "605806b2-d377-44f7-a18c-567e8547c622",
   "metadata": {},
   "outputs": [],
   "source": [
    "import pandas as pd"
   ]
  },
  {
   "cell_type": "code",
   "execution_count": 3,
   "id": "2612b4fe-e9cd-4bbb-8fca-04abda81b4a4",
   "metadata": {},
   "outputs": [],
   "source": [
    "raw_data = pd.read_excel(r'C:\\Users\\icrui\\Documents\\DS-ML\\FCEIA\\3° cuatrimestre\\Fundamentos_Cs_Datos\\Unidad2\\flete-aereo-vacunas-covid19-al-2021-06-28.xlsx', header=4)"
   ]
  },
  {
   "cell_type": "code",
   "execution_count": 5,
   "id": "83bff067-3acb-4622-9993-1dc757f64f68",
   "metadata": {},
   "outputs": [
    {
     "data": {
      "text/html": [
       "<div>\n",
       "<style scoped>\n",
       "    .dataframe tbody tr th:only-of-type {\n",
       "        vertical-align: middle;\n",
       "    }\n",
       "\n",
       "    .dataframe tbody tr th {\n",
       "        vertical-align: top;\n",
       "    }\n",
       "\n",
       "    .dataframe thead th {\n",
       "        text-align: right;\n",
       "    }\n",
       "</style>\n",
       "<table border=\"1\" class=\"dataframe\">\n",
       "  <thead>\n",
       "    <tr style=\"text-align: right;\">\n",
       "      <th></th>\n",
       "      <th>organismo</th>\n",
       "      <th>expediente</th>\n",
       "      <th>financiamiento</th>\n",
       "      <th>acto_conclusión</th>\n",
       "      <th>descripción</th>\n",
       "      <th>prestador</th>\n",
       "      <th>CUIT</th>\n",
       "      <th>estado</th>\n",
       "      <th>factura_nro</th>\n",
       "      <th>factura_moneda_monto</th>\n",
       "      <th>guía_nro</th>\n",
       "      <th>guía_moneda_monto</th>\n",
       "      <th>fecha_guía</th>\n",
       "      <th>vuelo</th>\n",
       "      <th>bienes_transportados</th>\n",
       "      <th>proveedor_bienes_transportados</th>\n",
       "      <th>operación</th>\n",
       "      <th>comprador_donante</th>\n",
       "      <th>origen</th>\n",
       "    </tr>\n",
       "  </thead>\n",
       "  <tbody>\n",
       "    <tr>\n",
       "      <th>0</th>\n",
       "      <td>Ministerio de Salud de la Nación</td>\n",
       "      <td>EX-2020-91578184- -APN-DD#MS</td>\n",
       "      <td>Fuente Financiamiento 11</td>\n",
       "      <td>DI-2021-16691129-APN-SSGA#MS</td>\n",
       "      <td>Flete aéreo</td>\n",
       "      <td>Aerolíneas Argentinas S.A.</td>\n",
       "      <td>30-64140555-4</td>\n",
       "      <td>Cumplido</td>\n",
       "      <td>0411-00011116</td>\n",
       "      <td>USD 305.250,00</td>\n",
       "      <td>044-44032951</td>\n",
       "      <td>USD 679,84</td>\n",
       "      <td>2020-12-23</td>\n",
       "      <td>1061</td>\n",
       "      <td>marking</td>\n",
       "      <td>Biointegrator LLC</td>\n",
       "      <td>Adquisición</td>\n",
       "      <td>Secretaría de Acceso a la Salud</td>\n",
       "      <td>Rusia</td>\n",
       "    </tr>\n",
       "    <tr>\n",
       "      <th>1</th>\n",
       "      <td>Ministerio de Salud de la Nación</td>\n",
       "      <td>EX-2020-91578184- -APN-DD#MS</td>\n",
       "      <td>Fuente Financiamiento 11</td>\n",
       "      <td>DI-2021-16691129-APN-SSGA#MS</td>\n",
       "      <td>Flete aéreo</td>\n",
       "      <td>Aerolíneas Argentinas S.A.</td>\n",
       "      <td>30-64140555-4</td>\n",
       "      <td>Cumplido</td>\n",
       "      <td>0411-00011116</td>\n",
       "      <td>USD 302.250,00</td>\n",
       "      <td>044-44032940</td>\n",
       "      <td>USD 304.570,16</td>\n",
       "      <td>2020-12-23</td>\n",
       "      <td>1061</td>\n",
       "      <td>vaccine pharmaceuticals</td>\n",
       "      <td>Human Vaccine LLC</td>\n",
       "      <td>Adquisición</td>\n",
       "      <td>Secretaría de Acceso a la Salud</td>\n",
       "      <td>Rusia</td>\n",
       "    </tr>\n",
       "    <tr>\n",
       "      <th>2</th>\n",
       "      <td>Ministerio de Salud de la Nación</td>\n",
       "      <td>EX-2021-04601170- -APN-DD#MS</td>\n",
       "      <td>Fuente Financiamiento 11</td>\n",
       "      <td>DI-2021-24666588-APN-SSGA#MS</td>\n",
       "      <td>Flete aéreo</td>\n",
       "      <td>Aerolíneas Argentinas S.A.</td>\n",
       "      <td>30-64140555-4</td>\n",
       "      <td>Cumplido</td>\n",
       "      <td>0411-00011206</td>\n",
       "      <td>USD 302.250,00</td>\n",
       "      <td>044-44032973</td>\n",
       "      <td>USD 302.250,00</td>\n",
       "      <td>2021-01-15</td>\n",
       "      <td>1061</td>\n",
       "      <td>vaccine pharmaceuticals</td>\n",
       "      <td>Human Vaccine LLC</td>\n",
       "      <td>Adquisición</td>\n",
       "      <td>Secretaría de Acceso a la Salud</td>\n",
       "      <td>Rusia</td>\n",
       "    </tr>\n",
       "    <tr>\n",
       "      <th>3</th>\n",
       "      <td>Ministerio de Salud de la Nación</td>\n",
       "      <td>EX-2021-08460702- -APN-DD#MS</td>\n",
       "      <td>Fuente Financiamiento 11</td>\n",
       "      <td>DI-2021-24639513-APN-SSGA#MS</td>\n",
       "      <td>Flete aéreo</td>\n",
       "      <td>Aerolíneas Argentinas S.A.</td>\n",
       "      <td>30-64140555-4</td>\n",
       "      <td>Cumplido</td>\n",
       "      <td>0411-00011296</td>\n",
       "      <td>NaN</td>\n",
       "      <td>044-44032984</td>\n",
       "      <td>USD 268.655,94</td>\n",
       "      <td>2021-01-29</td>\n",
       "      <td>1063</td>\n",
       "      <td>vaccine pharmaceuticals</td>\n",
       "      <td>Human Vaccine LLC</td>\n",
       "      <td>Adquisición</td>\n",
       "      <td>Secretaría de Acceso a la Salud</td>\n",
       "      <td>Rusia</td>\n",
       "    </tr>\n",
       "    <tr>\n",
       "      <th>4</th>\n",
       "      <td>Ministerio de Salud de la Nación</td>\n",
       "      <td>EX-2021-13211127- -APN-DD#MS</td>\n",
       "      <td>Fuente Financiamiento 11</td>\n",
       "      <td>DI-2021-24642675-APN-SSGA#MS</td>\n",
       "      <td>Flete aéreo</td>\n",
       "      <td>Aerolíneas Argentinas S.A.</td>\n",
       "      <td>30-64140555-4</td>\n",
       "      <td>Cumplido</td>\n",
       "      <td>0411-00011370</td>\n",
       "      <td>USD 303.075,00</td>\n",
       "      <td>044-44032995</td>\n",
       "      <td>USD 303.075,00</td>\n",
       "      <td>2021-02-11</td>\n",
       "      <td>1065</td>\n",
       "      <td>vaccine pharmaceuticals</td>\n",
       "      <td>Human Vaccine LLC</td>\n",
       "      <td>Adquisición</td>\n",
       "      <td>Secretaría de Acceso a la Salud</td>\n",
       "      <td>Rusia</td>\n",
       "    </tr>\n",
       "  </tbody>\n",
       "</table>\n",
       "</div>"
      ],
      "text/plain": [
       "                          organismo                    expediente  \\\n",
       "0  Ministerio de Salud de la Nación  EX-2020-91578184- -APN-DD#MS   \n",
       "1  Ministerio de Salud de la Nación  EX-2020-91578184- -APN-DD#MS   \n",
       "2  Ministerio de Salud de la Nación  EX-2021-04601170- -APN-DD#MS   \n",
       "3  Ministerio de Salud de la Nación  EX-2021-08460702- -APN-DD#MS   \n",
       "4  Ministerio de Salud de la Nación  EX-2021-13211127- -APN-DD#MS   \n",
       "\n",
       "             financiamiento               acto_conclusión  descripción  \\\n",
       "0  Fuente Financiamiento 11  DI-2021-16691129-APN-SSGA#MS  Flete aéreo   \n",
       "1  Fuente Financiamiento 11  DI-2021-16691129-APN-SSGA#MS  Flete aéreo   \n",
       "2  Fuente Financiamiento 11  DI-2021-24666588-APN-SSGA#MS  Flete aéreo   \n",
       "3  Fuente Financiamiento 11  DI-2021-24639513-APN-SSGA#MS  Flete aéreo   \n",
       "4  Fuente Financiamiento 11  DI-2021-24642675-APN-SSGA#MS  Flete aéreo   \n",
       "\n",
       "                    prestador           CUIT    estado    factura_nro  \\\n",
       "0  Aerolíneas Argentinas S.A.  30-64140555-4  Cumplido  0411-00011116   \n",
       "1  Aerolíneas Argentinas S.A.  30-64140555-4  Cumplido  0411-00011116   \n",
       "2  Aerolíneas Argentinas S.A.  30-64140555-4  Cumplido  0411-00011206   \n",
       "3  Aerolíneas Argentinas S.A.  30-64140555-4  Cumplido  0411-00011296   \n",
       "4  Aerolíneas Argentinas S.A.  30-64140555-4  Cumplido  0411-00011370   \n",
       "\n",
       "  factura_moneda_monto      guía_nro guía_moneda_monto fecha_guía vuelo   \\\n",
       "0       USD 305.250,00  044-44032951        USD 679,84 2020-12-23   1061   \n",
       "1       USD 302.250,00  044-44032940    USD 304.570,16 2020-12-23   1061   \n",
       "2       USD 302.250,00  044-44032973    USD 302.250,00 2021-01-15   1061   \n",
       "3                  NaN  044-44032984    USD 268.655,94 2021-01-29   1063   \n",
       "4       USD 303.075,00  044-44032995    USD 303.075,00 2021-02-11   1065   \n",
       "\n",
       "      bienes_transportados proveedor_bienes_transportados    operación  \\\n",
       "0                  marking              Biointegrator LLC  Adquisición   \n",
       "1  vaccine pharmaceuticals              Human Vaccine LLC  Adquisición   \n",
       "2  vaccine pharmaceuticals              Human Vaccine LLC  Adquisición   \n",
       "3  vaccine pharmaceuticals              Human Vaccine LLC  Adquisición   \n",
       "4  vaccine pharmaceuticals              Human Vaccine LLC  Adquisición   \n",
       "\n",
       "                 comprador_donante origen  \n",
       "0  Secretaría de Acceso a la Salud  Rusia  \n",
       "1  Secretaría de Acceso a la Salud  Rusia  \n",
       "2  Secretaría de Acceso a la Salud  Rusia  \n",
       "3  Secretaría de Acceso a la Salud  Rusia  \n",
       "4  Secretaría de Acceso a la Salud  Rusia  "
      ]
     },
     "execution_count": 5,
     "metadata": {},
     "output_type": "execute_result"
    }
   ],
   "source": [
    "raw_data.head()"
   ]
  },
  {
   "cell_type": "code",
   "execution_count": 7,
   "id": "5ae28c81-1988-44f7-abd1-67500ea9f85c",
   "metadata": {},
   "outputs": [],
   "source": [
    "cleaned_data = raw_data.dropna(how='all')"
   ]
  },
  {
   "cell_type": "code",
   "execution_count": 9,
   "id": "9e4dbbb7-ce83-4429-a855-0ecd8baee956",
   "metadata": {},
   "outputs": [
    {
     "data": {
      "text/html": [
       "<div>\n",
       "<style scoped>\n",
       "    .dataframe tbody tr th:only-of-type {\n",
       "        vertical-align: middle;\n",
       "    }\n",
       "\n",
       "    .dataframe tbody tr th {\n",
       "        vertical-align: top;\n",
       "    }\n",
       "\n",
       "    .dataframe thead th {\n",
       "        text-align: right;\n",
       "    }\n",
       "</style>\n",
       "<table border=\"1\" class=\"dataframe\">\n",
       "  <thead>\n",
       "    <tr style=\"text-align: right;\">\n",
       "      <th></th>\n",
       "      <th>organismo</th>\n",
       "      <th>expediente</th>\n",
       "      <th>financiamiento</th>\n",
       "      <th>acto_conclusión</th>\n",
       "      <th>descripción</th>\n",
       "      <th>prestador</th>\n",
       "      <th>CUIT</th>\n",
       "      <th>estado</th>\n",
       "      <th>factura_nro</th>\n",
       "      <th>factura_moneda_monto</th>\n",
       "      <th>guía_nro</th>\n",
       "      <th>guía_moneda_monto</th>\n",
       "      <th>fecha_guía</th>\n",
       "      <th>vuelo</th>\n",
       "      <th>bienes_transportados</th>\n",
       "      <th>proveedor_bienes_transportados</th>\n",
       "      <th>operación</th>\n",
       "      <th>comprador_donante</th>\n",
       "      <th>origen</th>\n",
       "    </tr>\n",
       "  </thead>\n",
       "  <tbody>\n",
       "    <tr>\n",
       "      <th>0</th>\n",
       "      <td>Ministerio de Salud de la Nación</td>\n",
       "      <td>EX-2020-91578184- -APN-DD#MS</td>\n",
       "      <td>Fuente Financiamiento 11</td>\n",
       "      <td>DI-2021-16691129-APN-SSGA#MS</td>\n",
       "      <td>Flete aéreo</td>\n",
       "      <td>Aerolíneas Argentinas S.A.</td>\n",
       "      <td>30-64140555-4</td>\n",
       "      <td>Cumplido</td>\n",
       "      <td>0411-00011116</td>\n",
       "      <td>USD 305.250,00</td>\n",
       "      <td>044-44032951</td>\n",
       "      <td>USD 679,84</td>\n",
       "      <td>2020-12-23</td>\n",
       "      <td>1061</td>\n",
       "      <td>marking</td>\n",
       "      <td>Biointegrator LLC</td>\n",
       "      <td>Adquisición</td>\n",
       "      <td>Secretaría de Acceso a la Salud</td>\n",
       "      <td>Rusia</td>\n",
       "    </tr>\n",
       "    <tr>\n",
       "      <th>1</th>\n",
       "      <td>Ministerio de Salud de la Nación</td>\n",
       "      <td>EX-2020-91578184- -APN-DD#MS</td>\n",
       "      <td>Fuente Financiamiento 11</td>\n",
       "      <td>DI-2021-16691129-APN-SSGA#MS</td>\n",
       "      <td>Flete aéreo</td>\n",
       "      <td>Aerolíneas Argentinas S.A.</td>\n",
       "      <td>30-64140555-4</td>\n",
       "      <td>Cumplido</td>\n",
       "      <td>0411-00011116</td>\n",
       "      <td>USD 302.250,00</td>\n",
       "      <td>044-44032940</td>\n",
       "      <td>USD 304.570,16</td>\n",
       "      <td>2020-12-23</td>\n",
       "      <td>1061</td>\n",
       "      <td>vaccine pharmaceuticals</td>\n",
       "      <td>Human Vaccine LLC</td>\n",
       "      <td>Adquisición</td>\n",
       "      <td>Secretaría de Acceso a la Salud</td>\n",
       "      <td>Rusia</td>\n",
       "    </tr>\n",
       "    <tr>\n",
       "      <th>2</th>\n",
       "      <td>Ministerio de Salud de la Nación</td>\n",
       "      <td>EX-2021-04601170- -APN-DD#MS</td>\n",
       "      <td>Fuente Financiamiento 11</td>\n",
       "      <td>DI-2021-24666588-APN-SSGA#MS</td>\n",
       "      <td>Flete aéreo</td>\n",
       "      <td>Aerolíneas Argentinas S.A.</td>\n",
       "      <td>30-64140555-4</td>\n",
       "      <td>Cumplido</td>\n",
       "      <td>0411-00011206</td>\n",
       "      <td>USD 302.250,00</td>\n",
       "      <td>044-44032973</td>\n",
       "      <td>USD 302.250,00</td>\n",
       "      <td>2021-01-15</td>\n",
       "      <td>1061</td>\n",
       "      <td>vaccine pharmaceuticals</td>\n",
       "      <td>Human Vaccine LLC</td>\n",
       "      <td>Adquisición</td>\n",
       "      <td>Secretaría de Acceso a la Salud</td>\n",
       "      <td>Rusia</td>\n",
       "    </tr>\n",
       "    <tr>\n",
       "      <th>3</th>\n",
       "      <td>Ministerio de Salud de la Nación</td>\n",
       "      <td>EX-2021-08460702- -APN-DD#MS</td>\n",
       "      <td>Fuente Financiamiento 11</td>\n",
       "      <td>DI-2021-24639513-APN-SSGA#MS</td>\n",
       "      <td>Flete aéreo</td>\n",
       "      <td>Aerolíneas Argentinas S.A.</td>\n",
       "      <td>30-64140555-4</td>\n",
       "      <td>Cumplido</td>\n",
       "      <td>0411-00011296</td>\n",
       "      <td>NaN</td>\n",
       "      <td>044-44032984</td>\n",
       "      <td>USD 268.655,94</td>\n",
       "      <td>2021-01-29</td>\n",
       "      <td>1063</td>\n",
       "      <td>vaccine pharmaceuticals</td>\n",
       "      <td>Human Vaccine LLC</td>\n",
       "      <td>Adquisición</td>\n",
       "      <td>Secretaría de Acceso a la Salud</td>\n",
       "      <td>Rusia</td>\n",
       "    </tr>\n",
       "    <tr>\n",
       "      <th>4</th>\n",
       "      <td>Ministerio de Salud de la Nación</td>\n",
       "      <td>EX-2021-13211127- -APN-DD#MS</td>\n",
       "      <td>Fuente Financiamiento 11</td>\n",
       "      <td>DI-2021-24642675-APN-SSGA#MS</td>\n",
       "      <td>Flete aéreo</td>\n",
       "      <td>Aerolíneas Argentinas S.A.</td>\n",
       "      <td>30-64140555-4</td>\n",
       "      <td>Cumplido</td>\n",
       "      <td>0411-00011370</td>\n",
       "      <td>USD 303.075,00</td>\n",
       "      <td>044-44032995</td>\n",
       "      <td>USD 303.075,00</td>\n",
       "      <td>2021-02-11</td>\n",
       "      <td>1065</td>\n",
       "      <td>vaccine pharmaceuticals</td>\n",
       "      <td>Human Vaccine LLC</td>\n",
       "      <td>Adquisición</td>\n",
       "      <td>Secretaría de Acceso a la Salud</td>\n",
       "      <td>Rusia</td>\n",
       "    </tr>\n",
       "  </tbody>\n",
       "</table>\n",
       "</div>"
      ],
      "text/plain": [
       "                          organismo                    expediente  \\\n",
       "0  Ministerio de Salud de la Nación  EX-2020-91578184- -APN-DD#MS   \n",
       "1  Ministerio de Salud de la Nación  EX-2020-91578184- -APN-DD#MS   \n",
       "2  Ministerio de Salud de la Nación  EX-2021-04601170- -APN-DD#MS   \n",
       "3  Ministerio de Salud de la Nación  EX-2021-08460702- -APN-DD#MS   \n",
       "4  Ministerio de Salud de la Nación  EX-2021-13211127- -APN-DD#MS   \n",
       "\n",
       "             financiamiento               acto_conclusión  descripción  \\\n",
       "0  Fuente Financiamiento 11  DI-2021-16691129-APN-SSGA#MS  Flete aéreo   \n",
       "1  Fuente Financiamiento 11  DI-2021-16691129-APN-SSGA#MS  Flete aéreo   \n",
       "2  Fuente Financiamiento 11  DI-2021-24666588-APN-SSGA#MS  Flete aéreo   \n",
       "3  Fuente Financiamiento 11  DI-2021-24639513-APN-SSGA#MS  Flete aéreo   \n",
       "4  Fuente Financiamiento 11  DI-2021-24642675-APN-SSGA#MS  Flete aéreo   \n",
       "\n",
       "                    prestador           CUIT    estado    factura_nro  \\\n",
       "0  Aerolíneas Argentinas S.A.  30-64140555-4  Cumplido  0411-00011116   \n",
       "1  Aerolíneas Argentinas S.A.  30-64140555-4  Cumplido  0411-00011116   \n",
       "2  Aerolíneas Argentinas S.A.  30-64140555-4  Cumplido  0411-00011206   \n",
       "3  Aerolíneas Argentinas S.A.  30-64140555-4  Cumplido  0411-00011296   \n",
       "4  Aerolíneas Argentinas S.A.  30-64140555-4  Cumplido  0411-00011370   \n",
       "\n",
       "  factura_moneda_monto      guía_nro guía_moneda_monto fecha_guía vuelo   \\\n",
       "0       USD 305.250,00  044-44032951        USD 679,84 2020-12-23   1061   \n",
       "1       USD 302.250,00  044-44032940    USD 304.570,16 2020-12-23   1061   \n",
       "2       USD 302.250,00  044-44032973    USD 302.250,00 2021-01-15   1061   \n",
       "3                  NaN  044-44032984    USD 268.655,94 2021-01-29   1063   \n",
       "4       USD 303.075,00  044-44032995    USD 303.075,00 2021-02-11   1065   \n",
       "\n",
       "      bienes_transportados proveedor_bienes_transportados    operación  \\\n",
       "0                  marking              Biointegrator LLC  Adquisición   \n",
       "1  vaccine pharmaceuticals              Human Vaccine LLC  Adquisición   \n",
       "2  vaccine pharmaceuticals              Human Vaccine LLC  Adquisición   \n",
       "3  vaccine pharmaceuticals              Human Vaccine LLC  Adquisición   \n",
       "4  vaccine pharmaceuticals              Human Vaccine LLC  Adquisición   \n",
       "\n",
       "                 comprador_donante origen  \n",
       "0  Secretaría de Acceso a la Salud  Rusia  \n",
       "1  Secretaría de Acceso a la Salud  Rusia  \n",
       "2  Secretaría de Acceso a la Salud  Rusia  \n",
       "3  Secretaría de Acceso a la Salud  Rusia  \n",
       "4  Secretaría de Acceso a la Salud  Rusia  "
      ]
     },
     "execution_count": 9,
     "metadata": {},
     "output_type": "execute_result"
    }
   ],
   "source": [
    "cleaned_data.head()"
   ]
  },
  {
   "cell_type": "code",
   "execution_count": 11,
   "id": "8324ea0e-e30b-4413-976e-fb862599ff9e",
   "metadata": {},
   "outputs": [
    {
     "data": {
      "text/plain": [
       "organismo                                 object\n",
       "expediente                                object\n",
       "financiamiento                            object\n",
       "acto_conclusión                           object\n",
       "descripción                               object\n",
       "prestador                                 object\n",
       "CUIT                                      object\n",
       "estado                                    object\n",
       "factura_nro                               object\n",
       "factura_moneda_monto                      object\n",
       "guía_nro                                  object\n",
       "guía_moneda_monto                         object\n",
       "fecha_guía                        datetime64[ns]\n",
       "vuelo                                     object\n",
       "bienes_transportados                      object\n",
       "proveedor_bienes_transportados            object\n",
       "operación                                 object\n",
       "comprador_donante                         object\n",
       "origen                                    object\n",
       "dtype: object"
      ]
     },
     "execution_count": 11,
     "metadata": {},
     "output_type": "execute_result"
    }
   ],
   "source": [
    "cleaned_data.dtypes"
   ]
  },
  {
   "cell_type": "code",
   "execution_count": 13,
   "id": "1de3e25a-4831-4aa7-a5ae-46dc263c0402",
   "metadata": {},
   "outputs": [],
   "source": [
    "cleaned_data.columns = cleaned_data.columns.str.strip()  # Elimina los espacios extra al inicio y final"
   ]
  },
  {
   "cell_type": "markdown",
   "id": "bc41ab95-5a14-4013-a819-7474799366e2",
   "metadata": {},
   "source": [
    "1) Según la información que se encuentra en la base de datos, ¿cuál fue el número de vuelo que realizó una mayor cantidad de fletes?"
   ]
  },
  {
   "cell_type": "code",
   "execution_count": 15,
   "id": "0492f163-5061-4f07-8a7d-35a795c2d2f2",
   "metadata": {},
   "outputs": [
    {
     "data": {
      "text/plain": [
       "vuelo\n",
       "1061    15\n",
       "1063    12\n",
       "1065     9\n",
       "1051     7\n",
       "1081     6\n",
       "Name: count, dtype: int64"
      ]
     },
     "execution_count": 15,
     "metadata": {},
     "output_type": "execute_result"
    }
   ],
   "source": [
    "cleaned_data['vuelo'].value_counts().head(5)"
   ]
  },
  {
   "cell_type": "markdown",
   "id": "0c159bcb-5c9c-42c5-aaa9-4301f203e08a",
   "metadata": {},
   "source": [
    "2) ¿Cuántos registros no contienen información sobre el número de vuelo?"
   ]
  },
  {
   "cell_type": "code",
   "execution_count": 17,
   "id": "ec59c76a-3d9a-4685-b8aa-c0d0678b2b3c",
   "metadata": {},
   "outputs": [
    {
     "data": {
      "text/plain": [
       "4"
      ]
     },
     "execution_count": 17,
     "metadata": {},
     "output_type": "execute_result"
    }
   ],
   "source": [
    "cleaned_data['vuelo'].isna().sum()"
   ]
  },
  {
   "cell_type": "markdown",
   "id": "0a148927-5722-4d1c-8688-4a22bf6a46c4",
   "metadata": {},
   "source": [
    "3) Calcule el promedio de lo facturado en todos los vuelos realizados considerando únicamente los registros de viajes que se facturaron en USD"
   ]
  },
  {
   "cell_type": "code",
   "execution_count": 21,
   "id": "27dec94c-52f6-4c5f-bf5b-5f8b90516298",
   "metadata": {},
   "outputs": [],
   "source": [
    "facturacion = cleaned_data[['vuelo','factura_moneda_monto']].dropna(how='all')"
   ]
  },
  {
   "cell_type": "code",
   "execution_count": 28,
   "id": "dc61466c-0415-486f-924d-f73195578386",
   "metadata": {},
   "outputs": [],
   "source": [
    "facturacion[\"moneda\"] = facturacion[\"factura_moneda_monto\"].str.split().str[0] # Se separa el tipo de moneda en columna aparte"
   ]
  },
  {
   "cell_type": "code",
   "execution_count": 43,
   "id": "54c1b52b-e4eb-42df-ae74-96518c6d2c66",
   "metadata": {},
   "outputs": [],
   "source": [
    "facturacion = facturacion[[\"vuelo\", \"moneda\", \"factura_moneda_monto\"]] # Se reordena el dataset con datos relevantes"
   ]
  },
  {
   "cell_type": "code",
   "execution_count": 48,
   "id": "76093a75-b425-4fd0-9788-8948cd702970",
   "metadata": {},
   "outputs": [],
   "source": [
    "facturacion[\"factura_moneda_monto\"] = facturacion[\"factura_moneda_monto\"].str.replace(r\"USD |EUR \", \"\", regex=True)"
   ]
  },
  {
   "cell_type": "code",
   "execution_count": 58,
   "id": "227a2f92-e74a-4cf1-ae88-804a5c7f6481",
   "metadata": {},
   "outputs": [],
   "source": [
    "facturacion[\"factura_moneda_monto\"] = (\n",
    "    facturacion[\"factura_moneda_monto\"]\n",
    "    .str.replace(\".\", \"\", regex=False)  # Se eliminan puntos\n",
    "    .str.replace(\",\", \".\", regex=False)  # Coma por punto\n",
    "    .str.replace(\" \", \"\", regex=False)  # Se borran espacios en blanco\n",
    "    .astype(float)  # Datos a float\n",
    ")"
   ]
  },
  {
   "cell_type": "code",
   "execution_count": 82,
   "id": "1d4cef37-8371-4751-9af2-006ed99d4c0d",
   "metadata": {},
   "outputs": [
    {
     "data": {
      "text/plain": [
       "208566.5"
      ]
     },
     "execution_count": 82,
     "metadata": {},
     "output_type": "execute_result"
    }
   ],
   "source": [
    "facturacion_usd = facturacion[facturacion[\"moneda\"] == \"USD\"]\n",
    "facturacion_usd[\"factura_moneda_monto\"].mean().round(2)"
   ]
  },
  {
   "cell_type": "markdown",
   "id": "0b0713b1-d5b4-4086-8279-d4455541e1c7",
   "metadata": {},
   "source": [
    "4) ¿Qué porcentaje de los vuelos realizados tuvieron como origen a Rusia o a China?"
   ]
  },
  {
   "cell_type": "code",
   "execution_count": 84,
   "id": "bbaf7035-7f0e-43a2-b189-968f3162db4e",
   "metadata": {},
   "outputs": [],
   "source": [
    "origen_rusia_china = cleaned_data['origen'].dropna(how='all')"
   ]
  },
  {
   "cell_type": "code",
   "execution_count": 86,
   "id": "5470a0c0-eed1-44d2-bdb6-de7f7da9c2ed",
   "metadata": {},
   "outputs": [
    {
     "data": {
      "text/plain": [
       "origen\n",
       "Rusia           72.727273\n",
       "China           22.727273\n",
       "India            1.515152\n",
       "Paises Bajos     1.515152\n",
       "china            1.515152\n",
       "Name: proportion, dtype: float64"
      ]
     },
     "execution_count": 86,
     "metadata": {},
     "output_type": "execute_result"
    }
   ],
   "source": [
    "origen_rusia_china.value_counts(normalize=True)*100"
   ]
  },
  {
   "cell_type": "markdown",
   "id": "734540d7-2585-4787-87cc-69b07d49cc17",
   "metadata": {},
   "source": [
    "5) ¿Cuál es el vuelo más reciente de los que se tiene registro en el dataset? ¿Cuántos días transcurrieron entre el primer y el último vuelo realizados?"
   ]
  },
  {
   "cell_type": "code",
   "execution_count": 88,
   "id": "e4511f7f-7929-4adb-a0fc-d32742f4a4b8",
   "metadata": {},
   "outputs": [],
   "source": [
    "fechas_vuelos = cleaned_data[['fecha_guía','vuelo']].dropna(how='all')"
   ]
  },
  {
   "cell_type": "code",
   "execution_count": 90,
   "id": "3d3c57f3-b3d0-4411-a716-7d59ae732e31",
   "metadata": {},
   "outputs": [],
   "source": [
    "primer_vuelo = fechas_vuelos.iloc[fechas_vuelos['fecha_guía'].argmin()]"
   ]
  },
  {
   "cell_type": "code",
   "execution_count": 92,
   "id": "75665f07-88c7-4d35-9198-7d263e3b4be8",
   "metadata": {},
   "outputs": [
    {
     "data": {
      "text/plain": [
       "fecha_guía    2020-12-23 00:00:00\n",
       "vuelo                        1061\n",
       "Name: 0, dtype: object"
      ]
     },
     "execution_count": 92,
     "metadata": {},
     "output_type": "execute_result"
    }
   ],
   "source": [
    "primer_vuelo"
   ]
  },
  {
   "cell_type": "code",
   "execution_count": 94,
   "id": "29d24538-f282-4b58-907f-4db8d8ebef60",
   "metadata": {},
   "outputs": [],
   "source": [
    "ultimo_vuelo = fechas_vuelos.iloc[fechas_vuelos['fecha_guía'].argmax()]"
   ]
  },
  {
   "cell_type": "code",
   "execution_count": 96,
   "id": "75b8b781-cecc-4b5e-b18e-fd8b24f2e23f",
   "metadata": {},
   "outputs": [
    {
     "data": {
      "text/plain": [
       "fecha_guía    2021-06-22 00:00:00\n",
       "vuelo                        1067\n",
       "Name: 65, dtype: object"
      ]
     },
     "execution_count": 96,
     "metadata": {},
     "output_type": "execute_result"
    }
   ],
   "source": [
    "ultimo_vuelo"
   ]
  },
  {
   "cell_type": "code",
   "execution_count": 98,
   "id": "738f9ed3-dc2d-46fd-bcfb-bdeb2bac9bef",
   "metadata": {},
   "outputs": [],
   "source": [
    "dif = ultimo_vuelo[0] - primer_vuelo[0]"
   ]
  },
  {
   "cell_type": "code",
   "execution_count": 100,
   "id": "64a2ee10-6256-4355-8780-891667d1a796",
   "metadata": {},
   "outputs": [
    {
     "data": {
      "text/plain": [
       "181"
      ]
     },
     "execution_count": 100,
     "metadata": {},
     "output_type": "execute_result"
    }
   ],
   "source": [
    "dif.days"
   ]
  },
  {
   "cell_type": "code",
   "execution_count": null,
   "id": "b3126d66-d09c-4a67-a031-9f9f89181bb5",
   "metadata": {},
   "outputs": [],
   "source": []
  }
 ],
 "metadata": {
  "kernelspec": {
   "display_name": "Python [conda env:base] *",
   "language": "python",
   "name": "conda-base-py"
  },
  "language_info": {
   "codemirror_mode": {
    "name": "ipython",
    "version": 3
   },
   "file_extension": ".py",
   "mimetype": "text/x-python",
   "name": "python",
   "nbconvert_exporter": "python",
   "pygments_lexer": "ipython3",
   "version": "3.11.5"
  }
 },
 "nbformat": 4,
 "nbformat_minor": 5
}
